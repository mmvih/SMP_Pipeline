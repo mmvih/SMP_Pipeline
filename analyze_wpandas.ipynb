{
 "cells": [
  {
   "cell_type": "code",
   "execution_count": 30,
   "metadata": {},
   "outputs": [],
   "source": [
    "import os \n",
    "\n",
    "import pandas as pd\n"
   ]
  },
  {
   "cell_type": "code",
   "execution_count": 31,
   "metadata": {},
   "outputs": [],
   "source": [
    "csv_directory = \"/home/vihanimm/SegmentationModelToolkit/workdir/SMP_Pipeline/dummy_output_SMP_eval\""
   ]
  },
  {
   "cell_type": "code",
   "execution_count": 46,
   "metadata": {},
   "outputs": [
    {
     "name": "stdout",
     "output_type": "stream",
     "text": [
      "Index(['Image_Name', 'Class', 'TP', 'TN', 'FP', 'FN', 'IoU', 'sensitivity',\n",
      "       'precision', 'specificity', 'negative predictive value',\n",
      "       'false negative rate', 'false positive rate', 'false discovery rate',\n",
      "       'false omission rate', 'prevalence', 'accuracy/rand index',\n",
      "       'Balanced Accuracy', 'F-Scores (weighted) ', 'F1-Score/dice index',\n",
      "       'prevalence threshold', 'Matthews Correlation Coefficient',\n",
      "       'Fowlkes-Mallows Index', 'Bookermaker Informedness', 'markedness',\n",
      "       'cohen's kappa index', 'mirkin metric', 'adjusted mirkin metric',\n",
      "       'adjusted rand index'],\n",
      "      dtype='object')\n",
      "             Image_Name     TN    FN       IoU  F-Scores (weighted) \n",
      "0  nuclear_test_600.tif  47431  1943  0.817951              0.909644\n",
      "1  nuclear_test_601.tif  44561  2471  0.806913              0.905933\n",
      "2  nuclear_test_602.tif  58550   269  0.940595              0.974694\n",
      "3  nuclear_test_603.tif  62077    93  0.933507              0.961813\n",
      "4  nuclear_test_604.tif  64197    36  0.892457              0.927363\n",
      "5  nuclear_test_605.tif  61608   139  0.922862              0.957981\n",
      "6  nuclear_test_606.tif  60982    32  0.921388              0.940133\n",
      "7  nuclear_test_607.tif  59886    92  0.921593              0.945661\n",
      "8  nuclear_test_608.tif  62935    96  0.858131              0.903790\n",
      "9  nuclear_test_609.tif  60953   132  0.905302              0.939325\n"
     ]
    }
   ],
   "source": [
    "csv_directory_list = os.listdir(csv_directory)\n",
    "\n",
    "for csv_dir in csv_directory_list:\n",
    "    \n",
    "    if csv_dir == \"Unet-MCCLoss-resnet18-imagenet-Adam\":\n",
    "        csv_directory_path = os.path.join(csv_directory, csv_dir)\n",
    "        pixel_eval_path = os.path.join(csv_directory_path, \"pixeleval\")\n",
    "        result_path = os.path.join(pixel_eval_path, \"result.csv\")\n",
    "        df = pd.read_csv(result_path)\n",
    "        print(df.columns)\n",
    "        print(df[['Image_Name', 'TN', 'FN', 'IoU', 'F1-Score/dice index']])\n"
   ]
  }
 ],
 "metadata": {
  "interpreter": {
   "hash": "8078886fe28da8ff9635c910593e65622c3b1143bcdd7ec1376de2ada8596bef"
  },
  "kernelspec": {
   "display_name": "Python 3.7.6 ('base')",
   "language": "python",
   "name": "python3"
  },
  "language_info": {
   "codemirror_mode": {
    "name": "ipython",
    "version": 3
   },
   "file_extension": ".py",
   "mimetype": "text/x-python",
   "name": "python",
   "nbconvert_exporter": "python",
   "pygments_lexer": "ipython3",
   "version": "3.7.6"
  },
  "orig_nbformat": 4
 },
 "nbformat": 4,
 "nbformat_minor": 2
}
