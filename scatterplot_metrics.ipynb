{
 "cells": [
  {
   "cell_type": "code",
   "execution_count": 10,
   "metadata": {},
   "outputs": [],
   "source": [
    "import os, sys, json\n",
    "from matplotlib import pyplot as plt\n",
    "\n",
    "import numpy as np\n",
    "import itertools"
   ]
  },
  {
   "cell_type": "code",
   "execution_count": 11,
   "metadata": {},
   "outputs": [],
   "source": [
    "model_dirpath = \"/home/vihanimm/SegmentationModelToolkit/workdir/SMP_Pipeline/output_SMP_ANALYSIS\"\n",
    "models = os.listdir(model_dirpath)\n",
    "\n",
    "dictionary = {\n",
    "\"accuracy\"  : \"/home/vihanimm/SegmentationModelToolkit/workdir/SMP_Pipeline/output_SMP_ANALYSIS/accuracy_models.json\",\n",
    "\"fscore\"    : \"/home/vihanimm/SegmentationModelToolkit/workdir/SMP_Pipeline/output_SMP_ANALYSIS/fscore_models.json\",\n",
    "\"iou_score\" : \"/home/vihanimm/SegmentationModelToolkit/workdir/SMP_Pipeline/output_SMP_ANALYSIS/iou_score_models.json\",\n",
    "\"MCCLoss\"   : \"/home/vihanimm/SegmentationModelToolkit/workdir/SMP_Pipeline/output_SMP_ANALYSIS/MCCLoss_models.json\",\n",
    "\"precision\" : \"/home/vihanimm/SegmentationModelToolkit/workdir/SMP_Pipeline/output_SMP_ANALYSIS/precision_models.json\",\n",
    "\"recall\"    : \"/home/vihanimm/SegmentationModelToolkit/workdir/SMP_Pipeline/output_SMP_ANALYSIS/recall_models.json\",\n",
    "\"time\"      : \"/home/vihanimm/SegmentationModelToolkit/workdir/SMP_Pipeline/output_SMP_ANALYSIS/time_models.json\"\n",
    "}"
   ]
  },
  {
   "cell_type": "code",
   "execution_count": 12,
   "metadata": {},
   "outputs": [],
   "source": [
    "import operator\n",
    "time_dictionary = {}\n",
    "\n",
    "analysis_notdone = []\n",
    "for model in models:\n",
    "    model_path = os.path.join(model_dirpath, model)\n",
    "    # print(model_path)\n",
    "    json_path =  os.path.join(model_path, \"metrics_accuracy.json\")\n",
    "    if not os.path.exists(json_path):\n",
    "        analysis_notdone.append(model)\n",
    "        continue\n",
    "    json_metric = json.load(open(json_path, \"r\"))\n",
    "    time_dictionary[model] = json_metric[\"time_allmetrics\"]\n",
    "time_dictionary = {k: str(v)+\"-0\" for k, v in sorted(time_dictionary.items(), \n",
    "                                            key=lambda item: item[1])}\n",
    "time_jsonpath = os.path.join(model_dirpath, \"time_models.json\")\n",
    "with open(time_jsonpath, 'w') as metric_json:\n",
    "    json.dump(time_dictionary, metric_json, indent=4)\n"
   ]
  },
  {
   "cell_type": "code",
   "execution_count": 13,
   "metadata": {},
   "outputs": [],
   "source": [
    "show_howmany = 50\n",
    "\n",
    "for key in dictionary.keys():\n",
    "    accuracy = json.load(open(dictionary[key], \"r\"))\n",
    "    accuracy_names = list(accuracy.keys())\n",
    "    accuracy_values = list(accuracy.values())\n",
    "    split_avg = []\n",
    "    split_std = []\n",
    "    for val in accuracy_values:\n",
    "        val_tuple = tuple(val.split(\"-\"))\n",
    "        split_avg.append(float(val_tuple[0]))\n",
    "        split_std.append(float(val_tuple[1]))\n",
    "    # print(split_avg)\n",
    "\n",
    "    rand_names = []\n",
    "    rand_avgs  = []\n",
    "    randgraph_idx = sorted(np.random.randint(51, len(accuracy_names)-51, 50).astype('int'))\n",
    "    for idx in randgraph_idx:\n",
    "        # print(accuracy_names[idx], accuracy_values[idx])\n",
    "        rand_names.append(accuracy_names[idx])\n",
    "        rand_avgs.append(split_avg[idx])\n",
    "    \n",
    "    fig, ax = plt.subplots(figsize=(20,30))\n",
    "    fig.tight_layout()\n",
    "    if key != \"MCCLoss\":\n",
    "        bars1 = ax.barh(accuracy_names[0:show_howmany], split_avg[0:show_howmany],label=\"Worst Performing Models\")\n",
    "        # ax.barh([\"...\"], [0])\n",
    "        bars3 = ax.barh(rand_names, rand_avgs, label=\"(Random) Middle Performing Models\")\n",
    "        bars2 = ax.barh(accuracy_names[-show_howmany:], split_avg[-show_howmany:],label=\"Best Performing Models\")\n",
    "    else:\n",
    "        bars1 = ax.barh(accuracy_names[0:show_howmany], split_avg[0:show_howmany],label=\"Best Performing Models\")\n",
    "        # ax.barh([\"...\"], [0])\n",
    "        bars3 = ax.barh(rand_names, rand_avgs, label=\"(Random) Middle Performing Models\")\n",
    "        bars2 = ax.barh(accuracy_names[-show_howmany:], split_avg[-show_howmany:],label=\"Worst Performing Models\")\n",
    "    handles, labels = ax.get_legend_handles_labels()\n",
    "    ax.legend(handles=handles[::-1], labels=labels[::-1], loc='upper right', bbox_to_anchor=(.99, .99))\n",
    "    fig.subplots_adjust(left=.35)\n",
    "\n",
    "    if key != \"time\":\n",
    "        plt.xlim([min(split_avg) - 0.05, min(max(split_avg) + .1, 1.0)])\n",
    "    else:\n",
    "        plt.xlim([min(split_avg) - 5, max(split_avg) + 10])\n",
    "    plt.title(f\"{key}\")\n",
    "    output_path = os.path.join(\"graphs\", f\"{key}_modelgraphs.png\")\n",
    "    plt.savefig(output_path)"
   ]
  },
  {
   "cell_type": "code",
   "execution_count": 14,
   "metadata": {},
   "outputs": [],
   "source": [
    "dict_keys = list(dictionary.keys())\n",
    "scatterplot_parameters = itertools.combinations(dict_keys,2)"
   ]
  },
  {
   "cell_type": "code",
   "execution_count": 15,
   "metadata": {},
   "outputs": [
    {
     "name": "stdout",
     "output_type": "stream",
     "text": [
      "('accuracy', 'fscore')\n",
      "SAVED graphstest/SCATTER_accuracy_fscore\n",
      "('accuracy', 'iou_score')\n",
      "SAVED graphstest/SCATTER_accuracy_iou_score\n",
      "('accuracy', 'MCCLoss')\n",
      "SAVED graphstest/SCATTER_accuracy_MCCLoss\n",
      "('accuracy', 'precision')\n",
      "SAVED graphstest/SCATTER_accuracy_precision\n",
      "('accuracy', 'recall')\n",
      "SAVED graphstest/SCATTER_accuracy_recall\n",
      "('accuracy', 'time')\n",
      "SAVED graphstest/SCATTER_accuracy_time\n",
      "('fscore', 'iou_score')\n",
      "SAVED graphstest/SCATTER_fscore_iou_score\n",
      "('fscore', 'MCCLoss')\n",
      "SAVED graphstest/SCATTER_fscore_MCCLoss\n",
      "('fscore', 'precision')\n",
      "SAVED graphstest/SCATTER_fscore_precision\n",
      "('fscore', 'recall')\n",
      "SAVED graphstest/SCATTER_fscore_recall\n",
      "('fscore', 'time')\n",
      "SAVED graphstest/SCATTER_fscore_time\n",
      "('iou_score', 'MCCLoss')\n",
      "SAVED graphstest/SCATTER_iou_score_MCCLoss\n",
      "('iou_score', 'precision')\n",
      "SAVED graphstest/SCATTER_iou_score_precision\n",
      "('iou_score', 'recall')\n",
      "SAVED graphstest/SCATTER_iou_score_recall\n",
      "('iou_score', 'time')\n",
      "SAVED graphstest/SCATTER_iou_score_time\n",
      "('MCCLoss', 'precision')\n",
      "SAVED graphstest/SCATTER_MCCLoss_precision\n",
      "('MCCLoss', 'recall')\n",
      "SAVED graphstest/SCATTER_MCCLoss_recall\n",
      "('MCCLoss', 'time')\n",
      "SAVED graphstest/SCATTER_MCCLoss_time\n",
      "('precision', 'recall')\n",
      "SAVED graphstest/SCATTER_precision_recall\n",
      "('precision', 'time')\n",
      "SAVED graphstest/SCATTER_precision_time\n",
      "('recall', 'time')\n",
      "SAVED graphstest/SCATTER_recall_time\n"
     ]
    },
    {
     "data": {
      "image/png": "[encoded data removed]",
      "text/plain": [
       "<Figure size 432x288 with 1 Axes>"
      ]
     },
     "metadata": {
      "needs_background": "light"
     },
     "output_type": "display_data"
    }
   ],
   "source": [
    "for scatterplot_parameter in scatterplot_parameters:\n",
    "    # if 'accuracy' not in scatterplot_parameter:\n",
    "    #     continue\n",
    "    # if 'MCCLoss' not in scatterplot_parameter:\n",
    "    #     continue\n",
    "    print(scatterplot_parameter)\n",
    "    x_dictionaryvalue = dictionary[scatterplot_parameter[0]]\n",
    "    y_dictionaryvalue = dictionary[scatterplot_parameter[1]]\n",
    "    x = json.load(open(x_dictionaryvalue, 'r'))\n",
    "    y = json.load(open(y_dictionaryvalue, 'r'))\n",
    "    \n",
    "    names = list(x.keys())\n",
    "    # x_avgs = [float(val.split(\"-\")[0])  for val in list(x.values())]\n",
    "    \n",
    "    # y_names = list(y.keys())\n",
    "    # y_avgs  = [float(val.split(\"-\")[0])  for val in list(y.values())]\n",
    "    x_avgs = []\n",
    "    y_avgs = []\n",
    "    for name in names:\n",
    "        x_avgs.append(float(x[name].split(\"-\")[0]))\n",
    "        y_avgs.append(float(y[name].split(\"-\")[0]))\n",
    "        # print(name, x_avgs[-1], y_avgs[-1])\n",
    "        \n",
    "    # for x,y in zip(x_names, y_names):\n",
    "    #     if x != y:\n",
    "    #         print(x, y, \"stop the madness\")\n",
    "    #         break\n",
    "    \n",
    "    plt.cla()\n",
    "    plt.clf()\n",
    "    plt.scatter(x_avgs, y_avgs)\n",
    "    plt.xlabel(scatterplot_parameter[0])\n",
    "    plt.ylabel(scatterplot_parameter[1])\n",
    "    output_path = os.path.join(\"graphs\", f\"SCATTER_{scatterplot_parameter[0]}_{scatterplot_parameter[1]}\")\n",
    "    \n",
    "    plt.savefig(output_path)\n",
    "    print(f\"SAVED {output_path}\")\n",
    "    plt.clf()\n",
    "    plt.cla()"
   ]
  }
 ],
 "metadata": {
  "interpreter": {
   "hash": "8078886fe28da8ff9635c910593e65622c3b1143bcdd7ec1376de2ada8596bef"
  },
  "kernelspec": {
   "display_name": "Python 3.7.6 ('base')",
   "language": "python",
   "name": "python3"
  },
  "language_info": {
   "codemirror_mode": {
    "name": "ipython",
    "version": 3
   },
   "file_extension": ".py",
   "mimetype": "text/x-python",
   "name": "python",
   "nbconvert_exporter": "python",
   "pygments_lexer": "ipython3",
   "version": "3.7.6"
  },
  "orig_nbformat": 4
 },
 "nbformat": 4,
 "nbformat_minor": 2
}
