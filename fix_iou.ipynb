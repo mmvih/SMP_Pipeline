{
 "cells": [
  {
   "cell_type": "code",
   "execution_count": 68,
   "metadata": {},
   "outputs": [],
   "source": [
    "import os, argparse, logging\n",
    "import bfio\n",
    "from bfio import BioReader\n",
    "\n",
    "import numpy as np\n",
    "\n",
    "from torch.utils.data import Dataset\n",
    "from PIL import Image\n",
    "\n",
    "import matplotlib.pyplot as plt\n",
    "import torch\n",
    "import segmentation_models_pytorch as smp\n",
    "import torchvision.models as models\n",
    "from torch import Tensor\n",
    "from typing import Union\n",
    "import albumentations"
   ]
  },
  {
   "cell_type": "code",
   "execution_count": 73,
   "metadata": {},
   "outputs": [],
   "source": [
    "class LocalNorm(object):\n",
    "    def __init__(\n",
    "            self,\n",
    "            window_size: int = 129,\n",
    "            max_response: Union[int, float] = 6,\n",
    "    ):\n",
    "        assert window_size % 2 == 1, 'window_size must be an odd integer'\n",
    "\n",
    "        self.window_size: int = window_size\n",
    "        self.max_response: float = float(max_response)\n",
    "        self.pad = torchvision.transforms.Pad(window_size // 2 + 1, padding_mode='reflect')\n",
    "        # Mode can be 'test', 'train' or 'eval'.\n",
    "        self.mode: str = 'eval'\n",
    "\n",
    "    def __call__(self, x: Tensor):\n",
    "        return torch.clip(\n",
    "            self.local_response(self.pad(x)),\n",
    "            min=-self.max_response,\n",
    "            max=self.max_response,\n",
    "        )\n",
    "\n",
    "    def image_filter(self, image: Tensor) -> Tensor:\n",
    "        \"\"\" Use a box filter on a stack of images\n",
    "        This method applies a box filter to an image. The input is assumed to be a\n",
    "        4D array, and should be pre-padded. The output will be smaller by\n",
    "        window_size - 1 pixels in both width and height since this filter does not pad\n",
    "        the input to account for filtering.\n",
    "        \"\"\"\n",
    "        integral_image: Tensor = image.cumsum(dim=-1).cumsum(dim=-2)\n",
    "        return (\n",
    "                integral_image[..., :-self.window_size - 1, :-self.window_size - 1]\n",
    "                + integral_image[..., self.window_size:-1, self.window_size:-1]\n",
    "                - integral_image[..., self.window_size:-1, :-self.window_size - 1]\n",
    "                - integral_image[..., :-self.window_size - 1, self.window_size:-1]\n",
    "        )\n",
    "\n",
    "    def local_response(self, image: Tensor):\n",
    "        \"\"\" Regional normalization.\n",
    "        This method normalizes each pixel using the mean and standard deviation of\n",
    "        all pixels within the window_size. The window_size parameter should be\n",
    "        2 * radius + 1 of the desired region of pixels to normalize by. The image should\n",
    "        be padded by window_size // 2 on each side.\n",
    "        \"\"\"\n",
    "        local_mean: Tensor = self.image_filter(image) / (self.window_size ** 2)\n",
    "        local_mean_square: Tensor = self.image_filter(image.pow(2)) / (self.window_size ** 2)\n",
    "\n",
    "        # Use absolute difference because sometimes error causes negative values\n",
    "        local_std = torch.clip(\n",
    "            (local_mean_square - local_mean.pow(2)).abs().sqrt(),\n",
    "            min=1e-3,\n",
    "        )\n",
    "\n",
    "        min_i, max_i = self.window_size // 2, -self.window_size // 2 - 1\n",
    "        response = image[..., min_i:max_i, min_i:max_i]\n",
    "\n",
    "        return (response - local_mean) / local_std\n",
    "\n"
   ]
  },
  {
   "cell_type": "code",
   "execution_count": 65,
   "metadata": {},
   "outputs": [],
   "source": [
    "modelpath = \"output_SMP\" + \\\n",
    "\"/Unet-MCCLoss-resnet18-random-Adadelta-binary-HorizontalFlip_ShiftScaleRotate_PadIfNeeded_RandomCrop_GaussianNoise_Perspective_RandomBrightnessContrast_RandomGamma_Sharpen_Blur_MotionBlur-NA/\" + \\\n",
    "\"checkpoint.pth\"\n",
    "imagepath = \"/home/vihanimm/SegmentationModelToolkit/Data/tif_data/nuclear/validation/image_subset/nuclear_validation_967.tif\""
   ]
  },
  {
   "cell_type": "code",
   "execution_count": 82,
   "metadata": {},
   "outputs": [
    {
     "name": "stdout",
     "output_type": "stream",
     "text": [
      "(256, 256)\n"
     ]
    },
    {
     "ename": "ValueError",
     "evalue": "The truth value of an array with more than one element is ambiguous. Use a.any() or a.all()",
     "output_type": "error",
     "traceback": [
      "\u001b[0;31m---------------------------------------------------------------------------\u001b[0m",
      "\u001b[0;31mValueError\u001b[0m                                Traceback (most recent call last)",
      "\u001b[0;32m<ipython-input-82-42e9023b3746>\u001b[0m in \u001b[0;36m<module>\u001b[0;34m\u001b[0m\n\u001b[1;32m     36\u001b[0m     \u001b[0mprint\u001b[0m\u001b[0;34m(\u001b[0m\u001b[0moutput_image\u001b[0m\u001b[0;34m.\u001b[0m\u001b[0mshape\u001b[0m\u001b[0;34m)\u001b[0m\u001b[0;34m\u001b[0m\u001b[0;34m\u001b[0m\u001b[0m\n\u001b[1;32m     37\u001b[0m \u001b[0;34m\u001b[0m\u001b[0m\n\u001b[0;32m---> 38\u001b[0;31m     \u001b[0mprint\u001b[0m\u001b[0;34m(\u001b[0m\u001b[0mmin\u001b[0m\u001b[0;34m(\u001b[0m\u001b[0moutput_image\u001b[0m\u001b[0;34m)\u001b[0m\u001b[0;34m,\u001b[0m \u001b[0mmax\u001b[0m\u001b[0;34m(\u001b[0m\u001b[0moutput_image\u001b[0m\u001b[0;34m)\u001b[0m\u001b[0;34m)\u001b[0m\u001b[0;34m\u001b[0m\u001b[0;34m\u001b[0m\u001b[0m\n\u001b[0m\u001b[1;32m     39\u001b[0m     \u001b[0mplt\u001b[0m\u001b[0;34m.\u001b[0m\u001b[0mimshow\u001b[0m\u001b[0;34m(\u001b[0m\u001b[0moutput_image\u001b[0m\u001b[0;34m)\u001b[0m\u001b[0;34m\u001b[0m\u001b[0;34m\u001b[0m\u001b[0m\n\u001b[1;32m     40\u001b[0m     \u001b[0mplt\u001b[0m\u001b[0;34m.\u001b[0m\u001b[0mshow\u001b[0m\u001b[0;34m(\u001b[0m\u001b[0;34m)\u001b[0m\u001b[0;34m\u001b[0m\u001b[0;34m\u001b[0m\u001b[0m\n",
      "\u001b[0;31mValueError\u001b[0m: The truth value of an array with more than one element is ambiguous. Use a.any() or a.all()"
     ]
    }
   ],
   "source": [
    "MODELS = {\n",
    "    'Unet': smp.Unet,\n",
    "    'UnetPlusPlus': smp.UnetPlusPlus,\n",
    "    'MAnet': smp.MAnet,\n",
    "    'Linknet': smp.Linknet,\n",
    "    'FPN': smp.FPN,\n",
    "    'PSPNet': smp.PSPNet,\n",
    "    'PAN': smp.PAN,\n",
    "    'DeepLabV3': smp.DeepLabV3,\n",
    "    'DeepLabV3Plus': smp.DeepLabV3Plus,\n",
    "}\n",
    "\n",
    "import torchvision\n",
    "modelparameters = torch.load(modelpath)\n",
    "model = MODELS[modelparameters[\"model_name\"]](\n",
    "    encoder_name=modelparameters[\"encoder_variant\"],\n",
    "    encoder_weights=modelparameters[\"encoder_weights\"],\n",
    "    in_channels=1,\n",
    "    activation='sigmoid'\n",
    ")\n",
    "model.eval()\n",
    "\n",
    "preprocessing = torchvision.transforms.Compose([torchvision.transforms.ToTensor(),LocalNorm()])\n",
    "augmentations = []\n",
    "with BioReader(imagepath, backend=\"java\") as br_imgobj:\n",
    "    br_imgarr = br_imgobj[:]\n",
    "    br_imgarr = np.reshape(br_imgarr, (1, 256, 256))\n",
    "\n",
    "    transform = albumentations.Compose(augmentations)\n",
    "    sample = transform(image=br_imgarr)\n",
    "    \n",
    "    image = sample['image'].squeeze()\n",
    "    preprocessedimage = preprocessing(image).numpy()\n",
    "    br_tensor = torch.from_numpy(preprocessedimage).to('cpu').unsqueeze(0)\n",
    "    output_image = model.predict(br_tensor).numpy().squeeze()\n",
    "    print(output_image.shape)\n",
    "    \n",
    "    print(np.min(output_image), np.max(output_image))\n",
    "    plt.imshow(output_image)\n",
    "    plt.show()\n"
   ]
  },
  {
   "cell_type": "code",
   "execution_count": null,
   "metadata": {},
   "outputs": [],
   "source": []
  }
 ],
 "metadata": {
  "interpreter": {
   "hash": "31f2aee4e71d21fbe5cf8b01ff0e069b9275f58929596ceb00d14d90e3e16cd6"
  },
  "kernelspec": {
   "display_name": "Python 3.6.9 64-bit",
   "language": "python",
   "name": "python3"
  },
  "language_info": {
   "codemirror_mode": {
    "name": "ipython",
    "version": 3
   },
   "file_extension": ".py",
   "mimetype": "text/x-python",
   "name": "python",
   "nbconvert_exporter": "python",
   "pygments_lexer": "ipython3",
   "version": "3.7.6"
  },
  "orig_nbformat": 4
 },
 "nbformat": 4,
 "nbformat_minor": 2
}
